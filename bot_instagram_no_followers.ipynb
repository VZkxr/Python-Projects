{
 "cells": [
  {
   "cell_type": "code",
   "execution_count": null,
   "metadata": {},
   "outputs": [],
   "source": [
    "import re \n",
    "import os\n",
    "from selenium import webdriver\n",
    "from selenium.webdriver.common.by import By\n",
    "import time\n",
    "import json\n",
    "from selenium.webdriver.common.keys import Keys\n",
    "\n",
    "f = open('credenciales.txt','r')\n",
    "us = f.readline().strip()\n",
    "pas = f.readline().strip()\n",
    "\n",
    "ruta = os.getcwd()\n",
    "driver_path = '{}\\chromedriver.exe'.format(ruta)\n",
    "driver = webdriver.Chrome(driver_path)\n",
    "driver.get('https://instagram.com/')\n",
    "\n",
    "time.sleep(3)\n",
    "\n",
    "username = driver.find_element('name','username')\n",
    "username.click()\n",
    "username.send_keys(us)\n",
    "\n",
    "password = driver.find_element('name','password')\n",
    "password.click()\n",
    "password.send_keys(pas)\n",
    "\n",
    "login = driver.find_element('xpath','//div[text()=\"Entrar\"]')\n",
    "login.click()\n",
    "\n",
    "time.sleep(3)\n",
    "\n",
    "try:\n",
    "    info_se = driver.find_element('xpath','//button[text()=\"Ahora no\"]')\n",
    "    info_se.click()\n",
    "    time.sleep(2)\n",
    "except:\n",
    "    pass\n",
    "try:\n",
    "    acti_n = driver.find_element('xpath','//button[text()=\"Ahora no\"]')\n",
    "    acti_n.click()\n",
    "    time.sleep(2)\n",
    "except:\n",
    "    pass\n",
    "\n",
    "time.sleep(3)"
   ]
  },
  {
   "cell_type": "code",
   "execution_count": null,
   "metadata": {},
   "outputs": [],
   "source": [
    "#### Followers ####\n",
    "######       ######\n",
    "\n",
    "profile_fs = driver.get('https://www.instagram.com/aarxn_gm/followers/')\n",
    "\n",
    "time.sleep(2)\n",
    "\n",
    "def scroll_followers(minutes):\n",
    "    pop_up_window = driver.find_element(\"xpath\",\"/html/body/div[2]/div/div/div[2]/div/div/div[1]/div/div[2]/div/div/div/div/div[2]/div/div/div[2]\")\n",
    "    # Scroll till Followers list is there\n",
    "    timeout = time.time() + 60 * minutes\n",
    "    while True:\n",
    "        if time.time() > timeout:\n",
    "            break\n",
    "        driver.execute_script(\n",
    "            'arguments[0].scrollTop = arguments[0].scrollTop + arguments[0].offsetHeight;',\n",
    "            pop_up_window)\n",
    "        time.sleep(1)\n",
    "\n",
    "scroll_followers(3)\n",
    "listFollowers = []\n",
    "\n",
    "time.sleep(1)\n",
    "\n",
    "listFollowers = driver.find_elements(\"xpath\",\"/html/body/div[2]/div/div/div[2]/div/div/div[1]/div/div[2]/div/div/div/div/div[2]/div/div/div[2]\")\n"
   ]
  },
  {
   "cell_type": "code",
   "execution_count": null,
   "metadata": {},
   "outputs": [],
   "source": [
    "listFollowers = [j.text for j in listFollowers]"
   ]
  },
  {
   "cell_type": "code",
   "execution_count": null,
   "metadata": {},
   "outputs": [],
   "source": [
    "listFollowers"
   ]
  },
  {
   "cell_type": "code",
   "execution_count": null,
   "metadata": {},
   "outputs": [],
   "source": [
    "#General Followers\n",
    "eliminarC = r'(\\nEliminar|\\nSeguir)'\n",
    "\n",
    "Followers_gC = [re.sub(eliminarC,'',s) for s in listFollowers]     #Limpieza de carácteres\n",
    "print(Followers_gC)"
   ]
  },
  {
   "cell_type": "code",
   "execution_count": null,
   "metadata": {},
   "outputs": [],
   "source": [
    "comaFs = re.compile(r'\\n')\n",
    "\n",
    "Followers_coma = [re.sub(comaFs,',',s)for s in Followers_gC]\n",
    "print(Followers_coma)"
   ]
  },
  {
   "cell_type": "code",
   "execution_count": null,
   "metadata": {},
   "outputs": [],
   "source": [
    "FollowersPRO = Followers_coma[0].split(',')\n",
    "print(FollowersPRO)"
   ]
  },
  {
   "cell_type": "code",
   "execution_count": null,
   "metadata": {},
   "outputs": [],
   "source": [
    "#### Following ####\n",
    "######       ######\n",
    "\n",
    "profile_fg = driver.get('https://www.instagram.com/aarxn_gm/following/')\n",
    "\n",
    "time.sleep(2)\n",
    "\n",
    "def scroll_following(minutes):\n",
    "    pop_up_window = driver.find_element(\"xpath\",\"/html/body/div[2]/div/div/div[2]/div/div/div[1]/div/div[2]/div/div/div/div/div[2]/div/div/div[3]\")\n",
    "    # Scroll till Following list is there\n",
    "    timeout = time.time() + 60 * minutes\n",
    "    while True:\n",
    "        if time.time() > timeout:\n",
    "            break\n",
    "        driver.execute_script(\n",
    "            'arguments[0].scrollTop = arguments[0].scrollTop + arguments[0].offsetHeight;',\n",
    "            pop_up_window)\n",
    "        time.sleep(1)\n",
    "\n",
    "scroll_following(3)\n",
    "listFollowing = []\n",
    "\n",
    "time.sleep(1)\n",
    "\n",
    "listFollowing = driver.find_elements(\"xpath\",\"/html/body/div[2]/div/div/div[2]/div/div/div[1]/div/div[2]/div/div/div/div/div[2]/div/div/div[3]\")\n"
   ]
  },
  {
   "cell_type": "code",
   "execution_count": null,
   "metadata": {},
   "outputs": [],
   "source": [
    "listFollowing = [i.text for i in listFollowing]"
   ]
  },
  {
   "cell_type": "code",
   "execution_count": null,
   "metadata": {},
   "outputs": [],
   "source": [
    "listFollowing"
   ]
  },
  {
   "cell_type": "code",
   "execution_count": null,
   "metadata": {},
   "outputs": [],
   "source": [
    "#General Following\n",
    "eliminarS = r'\\nSiguiendo'\n",
    "\n",
    "Following_gC = [re.sub(eliminarS,'',s) for s in listFollowing]     #Limpieza de carácteres\n",
    "print(Following_gC)"
   ]
  },
  {
   "cell_type": "code",
   "execution_count": null,
   "metadata": {},
   "outputs": [],
   "source": [
    "comaFg = re.compile(r'\\n')\n",
    "\n",
    "Following_coma = [re.sub(comaFg,',',s)for s in Following_gC]\n",
    "print(Following_coma)"
   ]
  },
  {
   "cell_type": "code",
   "execution_count": null,
   "metadata": {},
   "outputs": [],
   "source": [
    "FollowingPRO = Following_coma[0].split(',')\n",
    "print(FollowingPRO)"
   ]
  },
  {
   "cell_type": "code",
   "execution_count": null,
   "metadata": {},
   "outputs": [],
   "source": [
    "#### Comparison #####\n",
    "######          ######\n",
    "no_follower = [u for u in FollowingPRO if u not in FollowersPRO]\n",
    "print(f'Las personas que sigues pero no te siguen son: {no_follower}') "
   ]
  }
 ],
 "metadata": {
  "kernelspec": {
   "display_name": "base",
   "language": "python",
   "name": "python3"
  },
  "language_info": {
   "codemirror_mode": {
    "name": "ipython",
    "version": 3
   },
   "file_extension": ".py",
   "mimetype": "text/x-python",
   "name": "python",
   "nbconvert_exporter": "python",
   "pygments_lexer": "ipython3",
   "version": "3.11.2"
  },
  "orig_nbformat": 4
 },
 "nbformat": 4,
 "nbformat_minor": 2
}
